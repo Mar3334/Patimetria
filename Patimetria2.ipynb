{
  "nbformat": 4,
  "nbformat_minor": 0,
  "metadata": {
    "colab": {
      "name": "Patimetria2.ipynb",
      "provenance": [],
      "authorship_tag": "ABX9TyPVb5ypoFITD8avwxeK2EhH",
      "include_colab_link": true
    },
    "kernelspec": {
      "name": "python3",
      "display_name": "Python 3"
    },
    "accelerator": "GPU",
    "widgets": {
      "application/vnd.jupyter.widget-state+json": {
        "19816709d4364ab4a49620e57dc001a3": {
          "model_module": "@jupyter-widgets/controls",
          "model_name": "HBoxModel",
          "state": {
            "_view_name": "HBoxView",
            "_dom_classes": [],
            "_model_name": "HBoxModel",
            "_view_module": "@jupyter-widgets/controls",
            "_model_module_version": "1.5.0",
            "_view_count": null,
            "_view_module_version": "1.5.0",
            "box_style": "",
            "layout": "IPY_MODEL_0e69fc965fe54e848d268706946b550d",
            "_model_module": "@jupyter-widgets/controls",
            "children": [
              "IPY_MODEL_8507fd3b65c84fa1ad802e7de68d23cc",
              "IPY_MODEL_4619e3bf125e4314947ea71d33378e33"
            ]
          }
        },
        "0e69fc965fe54e848d268706946b550d": {
          "model_module": "@jupyter-widgets/base",
          "model_name": "LayoutModel",
          "state": {
            "_view_name": "LayoutView",
            "grid_template_rows": null,
            "right": null,
            "justify_content": null,
            "_view_module": "@jupyter-widgets/base",
            "overflow": null,
            "_model_module_version": "1.2.0",
            "_view_count": null,
            "flex_flow": null,
            "width": null,
            "min_width": null,
            "border": null,
            "align_items": null,
            "bottom": null,
            "_model_module": "@jupyter-widgets/base",
            "top": null,
            "grid_column": null,
            "overflow_y": null,
            "overflow_x": null,
            "grid_auto_flow": null,
            "grid_area": null,
            "grid_template_columns": null,
            "flex": null,
            "_model_name": "LayoutModel",
            "justify_items": null,
            "grid_row": null,
            "max_height": null,
            "align_content": null,
            "visibility": null,
            "align_self": null,
            "height": null,
            "min_height": null,
            "padding": null,
            "grid_auto_rows": null,
            "grid_gap": null,
            "max_width": null,
            "order": null,
            "_view_module_version": "1.2.0",
            "grid_template_areas": null,
            "object_position": null,
            "object_fit": null,
            "grid_auto_columns": null,
            "margin": null,
            "display": null,
            "left": null
          }
        },
        "8507fd3b65c84fa1ad802e7de68d23cc": {
          "model_module": "@jupyter-widgets/controls",
          "model_name": "FloatProgressModel",
          "state": {
            "_view_name": "ProgressView",
            "style": "IPY_MODEL_2f883b1a61914efabb4964ae426798bb",
            "_dom_classes": [],
            "description": "100%",
            "_model_name": "FloatProgressModel",
            "bar_style": "success",
            "max": 553433881,
            "_view_module": "@jupyter-widgets/controls",
            "_model_module_version": "1.5.0",
            "value": 553433881,
            "_view_count": null,
            "_view_module_version": "1.5.0",
            "orientation": "horizontal",
            "min": 0,
            "description_tooltip": null,
            "_model_module": "@jupyter-widgets/controls",
            "layout": "IPY_MODEL_01951d33f6f34aba8d808dca3fb05d6f"
          }
        },
        "4619e3bf125e4314947ea71d33378e33": {
          "model_module": "@jupyter-widgets/controls",
          "model_name": "HTMLModel",
          "state": {
            "_view_name": "HTMLView",
            "style": "IPY_MODEL_471a19e7130446cfb2f1750558214089",
            "_dom_classes": [],
            "description": "",
            "_model_name": "HTMLModel",
            "placeholder": "​",
            "_view_module": "@jupyter-widgets/controls",
            "_model_module_version": "1.5.0",
            "value": " 528M/528M [00:23&lt;00:00, 23.5MB/s]",
            "_view_count": null,
            "_view_module_version": "1.5.0",
            "description_tooltip": null,
            "_model_module": "@jupyter-widgets/controls",
            "layout": "IPY_MODEL_68e14fec80bf42438493583ec35b9050"
          }
        },
        "2f883b1a61914efabb4964ae426798bb": {
          "model_module": "@jupyter-widgets/controls",
          "model_name": "ProgressStyleModel",
          "state": {
            "_view_name": "StyleView",
            "_model_name": "ProgressStyleModel",
            "description_width": "initial",
            "_view_module": "@jupyter-widgets/base",
            "_model_module_version": "1.5.0",
            "_view_count": null,
            "_view_module_version": "1.2.0",
            "bar_color": null,
            "_model_module": "@jupyter-widgets/controls"
          }
        },
        "01951d33f6f34aba8d808dca3fb05d6f": {
          "model_module": "@jupyter-widgets/base",
          "model_name": "LayoutModel",
          "state": {
            "_view_name": "LayoutView",
            "grid_template_rows": null,
            "right": null,
            "justify_content": null,
            "_view_module": "@jupyter-widgets/base",
            "overflow": null,
            "_model_module_version": "1.2.0",
            "_view_count": null,
            "flex_flow": null,
            "width": null,
            "min_width": null,
            "border": null,
            "align_items": null,
            "bottom": null,
            "_model_module": "@jupyter-widgets/base",
            "top": null,
            "grid_column": null,
            "overflow_y": null,
            "overflow_x": null,
            "grid_auto_flow": null,
            "grid_area": null,
            "grid_template_columns": null,
            "flex": null,
            "_model_name": "LayoutModel",
            "justify_items": null,
            "grid_row": null,
            "max_height": null,
            "align_content": null,
            "visibility": null,
            "align_self": null,
            "height": null,
            "min_height": null,
            "padding": null,
            "grid_auto_rows": null,
            "grid_gap": null,
            "max_width": null,
            "order": null,
            "_view_module_version": "1.2.0",
            "grid_template_areas": null,
            "object_position": null,
            "object_fit": null,
            "grid_auto_columns": null,
            "margin": null,
            "display": null,
            "left": null
          }
        },
        "471a19e7130446cfb2f1750558214089": {
          "model_module": "@jupyter-widgets/controls",
          "model_name": "DescriptionStyleModel",
          "state": {
            "_view_name": "StyleView",
            "_model_name": "DescriptionStyleModel",
            "description_width": "",
            "_view_module": "@jupyter-widgets/base",
            "_model_module_version": "1.5.0",
            "_view_count": null,
            "_view_module_version": "1.2.0",
            "_model_module": "@jupyter-widgets/controls"
          }
        },
        "68e14fec80bf42438493583ec35b9050": {
          "model_module": "@jupyter-widgets/base",
          "model_name": "LayoutModel",
          "state": {
            "_view_name": "LayoutView",
            "grid_template_rows": null,
            "right": null,
            "justify_content": null,
            "_view_module": "@jupyter-widgets/base",
            "overflow": null,
            "_model_module_version": "1.2.0",
            "_view_count": null,
            "flex_flow": null,
            "width": null,
            "min_width": null,
            "border": null,
            "align_items": null,
            "bottom": null,
            "_model_module": "@jupyter-widgets/base",
            "top": null,
            "grid_column": null,
            "overflow_y": null,
            "overflow_x": null,
            "grid_auto_flow": null,
            "grid_area": null,
            "grid_template_columns": null,
            "flex": null,
            "_model_name": "LayoutModel",
            "justify_items": null,
            "grid_row": null,
            "max_height": null,
            "align_content": null,
            "visibility": null,
            "align_self": null,
            "height": null,
            "min_height": null,
            "padding": null,
            "grid_auto_rows": null,
            "grid_gap": null,
            "max_width": null,
            "order": null,
            "_view_module_version": "1.2.0",
            "grid_template_areas": null,
            "object_position": null,
            "object_fit": null,
            "grid_auto_columns": null,
            "margin": null,
            "display": null,
            "left": null
          }
        }
      }
    }
  },
  "cells": [
    {
      "cell_type": "markdown",
      "metadata": {
        "id": "view-in-github",
        "colab_type": "text"
      },
      "source": [
        "<a href=\"https://colab.research.google.com/github/Mar3334/Patimetria/blob/main/Patimetria2.ipynb\" target=\"_parent\"><img src=\"https://colab.research.google.com/assets/colab-badge.svg\" alt=\"Open In Colab\"/></a>"
      ]
    },
    {
      "cell_type": "code",
      "metadata": {
        "id": "_IsugSfCY_zE",
        "colab": {
          "base_uri": "https://localhost:8080/"
        },
        "outputId": "2f0dec58-93e1-414f-e3c2-01086234f0d6"
      },
      "source": [
        "from google.colab import drive\r\n",
        "drive.mount('/content/drive')"
      ],
      "execution_count": 1,
      "outputs": [
        {
          "output_type": "stream",
          "text": [
            "Mounted at /content/drive\n"
          ],
          "name": "stdout"
        }
      ]
    },
    {
      "cell_type": "code",
      "metadata": {
        "colab": {
          "base_uri": "https://localhost:8080/"
        },
        "id": "Xh-5LoycHuly",
        "outputId": "ed66a444-13a0-4ef3-f29a-301fce56ba9d"
      },
      "source": [
        "!pip install torch==1.4.0 torchvision==0.5.0"
      ],
      "execution_count": 2,
      "outputs": [
        {
          "output_type": "stream",
          "text": [
            "Collecting torch==1.4.0\n",
            "\u001b[?25l  Downloading https://files.pythonhosted.org/packages/24/19/4804aea17cd136f1705a5e98a00618cb8f6ccc375ad8bfa437408e09d058/torch-1.4.0-cp36-cp36m-manylinux1_x86_64.whl (753.4MB)\n",
            "\u001b[K     |████████████████████████████████| 753.4MB 21kB/s \n",
            "\u001b[?25hCollecting torchvision==0.5.0\n",
            "\u001b[?25l  Downloading https://files.pythonhosted.org/packages/7e/90/6141bf41f5655c78e24f40f710fdd4f8a8aff6c8b7c6f0328240f649bdbe/torchvision-0.5.0-cp36-cp36m-manylinux1_x86_64.whl (4.0MB)\n",
            "\u001b[K     |████████████████████████████████| 4.0MB 52.7MB/s \n",
            "\u001b[?25hRequirement already satisfied: six in /usr/local/lib/python3.6/dist-packages (from torchvision==0.5.0) (1.15.0)\n",
            "Requirement already satisfied: numpy in /usr/local/lib/python3.6/dist-packages (from torchvision==0.5.0) (1.19.4)\n",
            "Requirement already satisfied: pillow>=4.1.1 in /usr/local/lib/python3.6/dist-packages (from torchvision==0.5.0) (7.0.0)\n",
            "Installing collected packages: torch, torchvision\n",
            "  Found existing installation: torch 1.7.0+cu101\n",
            "    Uninstalling torch-1.7.0+cu101:\n",
            "      Successfully uninstalled torch-1.7.0+cu101\n",
            "  Found existing installation: torchvision 0.8.1+cu101\n",
            "    Uninstalling torchvision-0.8.1+cu101:\n",
            "      Successfully uninstalled torchvision-0.8.1+cu101\n",
            "Successfully installed torch-1.4.0 torchvision-0.5.0\n"
          ],
          "name": "stdout"
        }
      ]
    },
    {
      "cell_type": "code",
      "metadata": {
        "id": "eppi8CjtPagb",
        "colab": {
          "base_uri": "https://localhost:8080/"
        },
        "outputId": "e0295c08-c861-4c37-9424-167dd56567c8"
      },
      "source": [
        "!cp -rf /content/drive/MyDrive/siamese-triplet /content/drive/MyDrive/siamese-triplet"
      ],
      "execution_count": 4,
      "outputs": [
        {
          "output_type": "stream",
          "text": [
            "cp: cannot copy a directory, '/content/drive/MyDrive/siamese-triplet', into itself, '/content/drive/MyDrive/siamese-triplet/siamese-triplet'\n"
          ],
          "name": "stdout"
        }
      ]
    },
    {
      "cell_type": "code",
      "metadata": {
        "id": "PB-oh40GYmf8"
      },
      "source": [
        "import torch\r\n",
        "from torchvision import models"
      ],
      "execution_count": 5,
      "outputs": []
    },
    {
      "cell_type": "code",
      "metadata": {
        "id": "oJrOu9XLY03h"
      },
      "source": [
        "import sys\r\n",
        "sys.path.append('/content/drive/MyDrive/siamese-triplet')"
      ],
      "execution_count": 6,
      "outputs": []
    },
    {
      "cell_type": "code",
      "metadata": {
        "id": "L-clKeEwY1Ot",
        "colab": {
          "base_uri": "https://localhost:8080/",
          "height": 103,
          "referenced_widgets": [
            "19816709d4364ab4a49620e57dc001a3",
            "0e69fc965fe54e848d268706946b550d",
            "8507fd3b65c84fa1ad802e7de68d23cc",
            "4619e3bf125e4314947ea71d33378e33",
            "2f883b1a61914efabb4964ae426798bb",
            "01951d33f6f34aba8d808dca3fb05d6f",
            "471a19e7130446cfb2f1750558214089",
            "68e14fec80bf42438493583ec35b9050"
          ]
        },
        "outputId": "0d65f3dc-34f0-4abc-e3f9-1fe6de6b8273"
      },
      "source": [
        "from networks import VGGEmbeddingNet, EmbeddingNet, TripletNet\r\n",
        "vgg_model = VGGEmbeddingNet()\r\n",
        "emb_net = EmbeddingNet()"
      ],
      "execution_count": 7,
      "outputs": [
        {
          "output_type": "stream",
          "text": [
            "Downloading: \"https://download.pytorch.org/models/vgg16-397923af.pth\" to /root/.cache/torch/checkpoints/vgg16-397923af.pth\n"
          ],
          "name": "stderr"
        },
        {
          "output_type": "display_data",
          "data": {
            "application/vnd.jupyter.widget-view+json": {
              "model_id": "19816709d4364ab4a49620e57dc001a3",
              "version_minor": 0,
              "version_major": 2
            },
            "text/plain": [
              "HBox(children=(FloatProgress(value=0.0, max=553433881.0), HTML(value='')))"
            ]
          },
          "metadata": {
            "tags": []
          }
        },
        {
          "output_type": "stream",
          "text": [
            "\n"
          ],
          "name": "stdout"
        }
      ]
    },
    {
      "cell_type": "code",
      "metadata": {
        "id": "K8_GcOwxY4QR"
      },
      "source": [
        "from duckies_dataset import DuckieDataset"
      ],
      "execution_count": 9,
      "outputs": []
    },
    {
      "cell_type": "code",
      "metadata": {
        "id": "pLOX2DaaY-_Z"
      },
      "source": [
        "from torchvision import transforms\r\n",
        "from duckies_dataset import Rescale\r\n",
        "trans = transforms.Compose([Rescale(224),\r\n",
        "                            transforms.ToTensor()])\r\n",
        "\r\n",
        "duckie_dataset = DuckieDataset('/content/drive/MyDrive/train', transform= trans)"
      ],
      "execution_count": 10,
      "outputs": []
    },
    {
      "cell_type": "code",
      "metadata": {
        "colab": {
          "base_uri": "https://localhost:8080/"
        },
        "id": "7B3BucKLZiR7",
        "outputId": "a9f3db28-6bf4-4d31-ee86-101287b795b3"
      },
      "source": [
        "from datasets import TripletMNIST\r\n",
        "triplet_dataset = TripletMNIST(duckie_dataset)"
      ],
      "execution_count": 11,
      "outputs": [
        {
          "output_type": "stream",
          "text": [
            "<class 'torch.Tensor'>\n"
          ],
          "name": "stdout"
        }
      ]
    },
    {
      "cell_type": "code",
      "metadata": {
        "id": "ld4nhSBNZmy8"
      },
      "source": [
        "from trainer import fit, train_epoch, test_epoch\r\n",
        "from datasets import TripletMNIST\r\n",
        "train_dataset = DuckieDataset(\"/content/drive/MyDrive/train\", transform= trans)\r\n",
        "test_dataset = DuckieDataset(\"/content/drive/MyDrive/train\", train=False, transform= trans)"
      ],
      "execution_count": 12,
      "outputs": []
    },
    {
      "cell_type": "code",
      "metadata": {
        "colab": {
          "base_uri": "https://localhost:8080/"
        },
        "id": "Jn2gkk-saRZq",
        "outputId": "ea66661b-184b-49bc-a8fd-4e09e9b00be0"
      },
      "source": [
        "import torch\r\n",
        "from torch.optim import lr_scheduler\r\n",
        "import torch.optim as optim\r\n",
        "from torch.autograd import Variable\r\n",
        "from losses import TripletLoss\r\n",
        "import numpy as np\r\n",
        "cuda = torch.cuda.is_available()\r\n",
        "%matplotlib inline\r\n",
        "import matplotlib\r\n",
        "import matplotlib.pyplot as plt\r\n",
        "# Set up data loaders\r\n",
        "\r\n",
        "triplet_train_dataset = TripletMNIST(train_dataset) # Returns triplets of images\r\n",
        "triplet_test_dataset = TripletMNIST(test_dataset)\r\n",
        "batch_size = 32\r\n",
        "kwargs = {'num_workers': 8, 'pin_memory': True} if cuda else {}\r\n",
        "triplet_train_loader = torch.utils.data.DataLoader(triplet_train_dataset, batch_size=batch_size, shuffle=True, **kwargs)\r\n",
        "triplet_test_loader = torch.utils.data.DataLoader(triplet_test_dataset, batch_size=batch_size, shuffle=False, **kwargs)\r\n",
        "\r\n",
        "# Set up the network and training parameters\r\n",
        "\r\n",
        "margin = 1.\r\n",
        "embedding_net = EmbeddingNet()\r\n",
        "model = TripletNet(vgg_model)\r\n",
        "if cuda:\r\n",
        "    model.cuda()\r\n",
        "loss_fn = TripletLoss(margin)\r\n",
        "lr = 1e-3\r\n",
        "optimizer = optim.Adam(model.parameters(), lr=lr)\r\n",
        "scheduler = lr_scheduler.StepLR(optimizer, 8, gamma=0.1, last_epoch=-1)\r\n",
        "n_epochs = 10\r\n",
        "log_interval = 500"
      ],
      "execution_count": 13,
      "outputs": [
        {
          "output_type": "stream",
          "text": [
            "<class 'torch.Tensor'>\n"
          ],
          "name": "stdout"
        }
      ]
    },
    {
      "cell_type": "code",
      "metadata": {
        "id": "rk7ukB4ga3RO",
        "colab": {
          "base_uri": "https://localhost:8080/"
        },
        "outputId": "1d5580b0-b23b-44b4-a843-cb2b2772891c"
      },
      "source": [
        "fit(triplet_train_loader, triplet_test_loader, model, loss_fn, optimizer, scheduler, n_epochs, cuda, log_interval)"
      ],
      "execution_count": 14,
      "outputs": [
        {
          "output_type": "stream",
          "text": [
            "/usr/local/lib/python3.6/dist-packages/torch/optim/lr_scheduler.py:122: UserWarning: Detected call of `lr_scheduler.step()` before `optimizer.step()`. In PyTorch 1.1.0 and later, you should call them in the opposite order: `optimizer.step()` before `lr_scheduler.step()`.  Failure to do this will result in PyTorch skipping the first value of the learning rate schedule. See more details at https://pytorch.org/docs/stable/optim.html#how-to-adjust-learning-rate\n",
            "  \"https://pytorch.org/docs/stable/optim.html#how-to-adjust-learning-rate\", UserWarning)\n"
          ],
          "name": "stderr"
        },
        {
          "output_type": "stream",
          "text": [
            "Train: [0/1080 (0%)]\tLoss: 0.852113\n",
            "Epoch: 1/10. Train set: Average loss: 0.7974\n",
            "Epoch: 1/10. Validation set: Average loss: 0.6137\n",
            "Train: [0/1080 (0%)]\tLoss: 0.602837\n",
            "Epoch: 2/10. Train set: Average loss: 0.5131\n",
            "Epoch: 2/10. Validation set: Average loss: 0.4345\n",
            "Train: [0/1080 (0%)]\tLoss: 0.249085\n",
            "Epoch: 3/10. Train set: Average loss: 0.4077\n",
            "Epoch: 3/10. Validation set: Average loss: 0.3909\n",
            "Train: [0/1080 (0%)]\tLoss: 0.295516\n",
            "Epoch: 4/10. Train set: Average loss: 0.4205\n",
            "Epoch: 4/10. Validation set: Average loss: 0.3671\n",
            "Train: [0/1080 (0%)]\tLoss: 0.595594\n",
            "Epoch: 5/10. Train set: Average loss: 0.5078\n",
            "Epoch: 5/10. Validation set: Average loss: 0.4656\n",
            "Train: [0/1080 (0%)]\tLoss: 0.546804\n",
            "Epoch: 6/10. Train set: Average loss: 0.4727\n",
            "Epoch: 6/10. Validation set: Average loss: 0.6497\n",
            "Train: [0/1080 (0%)]\tLoss: 0.477820\n",
            "Epoch: 7/10. Train set: Average loss: 0.4735\n",
            "Epoch: 7/10. Validation set: Average loss: 0.3942\n",
            "Train: [0/1080 (0%)]\tLoss: 0.299744\n",
            "Epoch: 8/10. Train set: Average loss: 0.3842\n",
            "Epoch: 8/10. Validation set: Average loss: 0.3282\n",
            "Train: [0/1080 (0%)]\tLoss: 0.273956\n",
            "Epoch: 9/10. Train set: Average loss: 0.3521\n",
            "Epoch: 9/10. Validation set: Average loss: 0.3387\n",
            "Train: [0/1080 (0%)]\tLoss: 0.335133\n",
            "Epoch: 10/10. Train set: Average loss: 0.3486\n",
            "Epoch: 10/10. Validation set: Average loss: 0.3516\n"
          ],
          "name": "stdout"
        }
      ]
    },
    {
      "cell_type": "code",
      "metadata": {
        "id": "OF26aefvTNlk"
      },
      "source": [
        "# Define functions to extract embeddings using diferent datasets\r\n",
        "def extract_embeddings(dataset, model, dims = 1024, opt = None):\r\n",
        "    with torch.no_grad():\r\n",
        "        model.eval()\r\n",
        "        embeddings = np.zeros((len(dataset), dims))\r\n",
        "        labels = list()\r\n",
        "        for k, it_ in enumerate(dataset):\r\n",
        "            images = it_[0].unsqueeze_(0)\r\n",
        "            images = images.cuda()\r\n",
        "            target = it_[1]\r\n",
        "            if opt is None:\r\n",
        "                aux = model.get_embedding(images).data.cpu().numpy()\r\n",
        "            else:\r\n",
        "                aux = model.get_embedding(images, opt).data.cpu().numpy()\r\n",
        "            embeddings[k] = aux.reshape(1, dims)\r\n",
        "            labels.append(target)\r\n",
        "    return embeddings, labels\r\n"
      ],
      "execution_count": 15,
      "outputs": []
    },
    {
      "cell_type": "code",
      "metadata": {
        "id": "uGORG9c1Twos"
      },
      "source": [
        "embeddings, labels = extract_embeddings(test_dataset, vgg_model, dims = 512)"
      ],
      "execution_count": 16,
      "outputs": []
    },
    {
      "cell_type": "code",
      "metadata": {
        "id": "rUfuE4B2pnlI"
      },
      "source": [
        "from PIL import Image\r\n",
        "\r\n",
        "def n_closest_images(image, n=5):\r\n",
        "  img = Image.open(image)\r\n",
        "  img = trans(img)\r\n",
        "  emb_img = vgg_model(img.unsqueeze(0).cuda())\r\n",
        "  embedding_img = emb_img.data.cpu().numpy()\r\n",
        "  list_dist, list_labels, neat_list, label_ubication_list = [], [], [], []\r\n",
        "  for i in range(embeddings.shape[0]):\r\n",
        "    emb2 = embeddings[i,:]\r\n",
        "    dist = np.sum((emb2 - embedding_img)**2)\r\n",
        "    list_dist.append(dist)\r\n",
        "  neat_list[:] = list_dist\r\n",
        "  neat_list.sort()\r\n",
        "  for i in range(n):\r\n",
        "    position = list_dist.index(neat_list[i])\r\n",
        "    label_ubication = position - labels.index(labels[position])\r\n",
        "    label_ubication_list.append(label_ubication)\r\n",
        "    list_labels.append(labels[position])\r\n",
        "  print (neat_list[:n], list_labels, label_ubication_list)"
      ],
      "execution_count": 38,
      "outputs": []
    },
    {
      "cell_type": "code",
      "metadata": {
        "colab": {
          "base_uri": "https://localhost:8080/"
        },
        "id": "NYZvv4tkMwgC",
        "outputId": "64c01479-8377-43ad-c9d9-8730465f7d55"
      },
      "source": [
        "n_closest_images(\"/content/drive/MyDrive/train/unclesam/unclesamrubberduckback400x400.jpg\")"
      ],
      "execution_count": 39,
      "outputs": [
        {
          "output_type": "stream",
          "text": [
            "[0.0, 0.004717058665921881, 0.02648389478763237, 0.02892731603291443, 0.03103558507423607] [tensor(281.), tensor(279.), tensor(279.), tensor(238.), tensor(238.)] [0, 2, 3, 1, 0]\n"
          ],
          "name": "stdout"
        }
      ]
    },
    {
      "cell_type": "code",
      "metadata": {
        "id": "gKvbggd1htPG",
        "colab": {
          "base_uri": "https://localhost:8080/"
        },
        "outputId": "afcecdfa-06af-4a48-f212-b84ae825c19d"
      },
      "source": [
        "test_dataset.class_to_idx"
      ],
      "execution_count": 25,
      "outputs": [
        {
          "output_type": "execute_result",
          "data": {
            "text/plain": [
              "{'AlCapo': 0,\n",
              " 'Alibaba': 1,\n",
              " 'Americancop': 2,\n",
              " 'Aquaman': 3,\n",
              " 'Ariana': 4,\n",
              " 'Artist': 5,\n",
              " 'Astronaut': 6,\n",
              " 'Avatara': 7,\n",
              " 'Aztec': 8,\n",
              " 'BabyBoyKeychain': 9,\n",
              " 'Bali': 10,\n",
              " 'Balifemale': 11,\n",
              " 'BalletDancer': 12,\n",
              " 'Balthazar': 13,\n",
              " 'Basketball': 14,\n",
              " 'Bat': 15,\n",
              " 'Batmangreyholdy': 16,\n",
              " 'BavarianMan': 17,\n",
              " 'BavarianWoman': 18,\n",
              " 'Bicycles': 19,\n",
              " 'BigBen': 20,\n",
              " 'Black': 21,\n",
              " 'BlackSheep': 22,\n",
              " 'BlackStar': 23,\n",
              " 'Blacksheepmini': 24,\n",
              " 'Blue': 25,\n",
              " 'BlueSuede': 26,\n",
              " 'Bluemini': 27,\n",
              " 'BohemianQuacksody': 28,\n",
              " 'Bombshell': 29,\n",
              " 'Borntosun': 30,\n",
              " 'Bowling': 31,\n",
              " 'Boxer': 32,\n",
              " 'Brit': 33,\n",
              " 'Cactus': 34,\n",
              " 'Caesar': 35,\n",
              " 'Cannabis': 36,\n",
              " 'CaptainQuack': 37,\n",
              " 'Carnivalman': 38,\n",
              " 'Carnivalwoman': 39,\n",
              " 'Chef': 40,\n",
              " 'Chewquacker': 41,\n",
              " 'Chicken': 42,\n",
              " 'ChimneySweep': 43,\n",
              " 'Christmasjumper': 44,\n",
              " 'Cleaningfairy': 45,\n",
              " 'Clouds': 46,\n",
              " 'Cop': 47,\n",
              " 'Crocodile': 48,\n",
              " 'Cyber': 49,\n",
              " 'Cybersoldier': 50,\n",
              " 'Dali': 51,\n",
              " 'Dark': 52,\n",
              " 'DarkDuckWoman': 53,\n",
              " 'Delftblue': 54,\n",
              " 'Diamont': 55,\n",
              " 'Dino': 56,\n",
              " 'Diva': 57,\n",
              " 'DoctorSmartstein': 58,\n",
              " 'Dragon': 59,\n",
              " 'Driver': 60,\n",
              " 'Driverwoman': 61,\n",
              " 'DuckFadar': 62,\n",
              " 'DuckYou': 63,\n",
              " 'Ducktrix': 64,\n",
              " 'Easteregg': 65,\n",
              " 'Eastfrisian': 66,\n",
              " 'Elephant': 67,\n",
              " 'Engineer': 68,\n",
              " 'Eskimowithbaby': 69,\n",
              " 'Fadar': 70,\n",
              " 'Fairy': 71,\n",
              " 'FairyPrincess': 72,\n",
              " 'Fairyholdy': 73,\n",
              " 'Farmer': 74,\n",
              " 'FarmerWoman': 75,\n",
              " 'Fashion': 76,\n",
              " 'Firemanblack': 77,\n",
              " 'Fitness': 78,\n",
              " 'Fitnessgirl': 79,\n",
              " 'Flamingo': 80,\n",
              " 'FloatingStones': 81,\n",
              " 'FootballPlayer': 82,\n",
              " 'Frankenstein': 83,\n",
              " 'Frankensteinwoman': 84,\n",
              " 'Freedomkeychain': 85,\n",
              " 'Freud': 86,\n",
              " 'GOT': 87,\n",
              " 'GermanMaleKeychain': 88,\n",
              " 'Getwell': 89,\n",
              " 'Getwellmood': 90,\n",
              " 'Gingerbread': 91,\n",
              " 'Godfeather': 92,\n",
              " 'Goodluck': 93,\n",
              " 'Green': 94,\n",
              " 'GreetingSign': 95,\n",
              " 'GrimReaper': 96,\n",
              " 'GuardianAngel': 97,\n",
              " 'GuardianAngelWhite': 98,\n",
              " 'Harryponder': 99,\n",
              " 'Heart': 100,\n",
              " 'HeavyMetal': 101,\n",
              " 'Hedgehog': 102,\n",
              " 'Hippie': 103,\n",
              " 'HippieWoman': 104,\n",
              " 'Hipster': 105,\n",
              " 'HipsterWoman': 106,\n",
              " 'Holdypinkcrown': 107,\n",
              " 'HolidayMan': 108,\n",
              " 'Holidaywoman': 109,\n",
              " 'Holland': 110,\n",
              " 'Hunter': 111,\n",
              " 'Icehockey': 112,\n",
              " 'Incredible': 113,\n",
              " 'Japanese': 114,\n",
              " 'Josef': 115,\n",
              " 'Kangaroo': 116,\n",
              " 'KisstheDemon': 117,\n",
              " 'Knight': 118,\n",
              " 'KungFu': 119,\n",
              " 'Lama': 120,\n",
              " 'Lawyer': 121,\n",
              " 'Lighthouse': 122,\n",
              " 'Lingerie': 123,\n",
              " 'Loveyou': 124,\n",
              " 'Loveyoumood': 125,\n",
              " 'LukePondwalker': 126,\n",
              " 'LuxuryPirate': 127,\n",
              " 'LuxuryRainbow': 128,\n",
              " 'M': 129,\n",
              " 'Maria': 130,\n",
              " 'Materialbird': 131,\n",
              " 'Mini80scube': 132,\n",
              " 'MiniSpace': 133,\n",
              " 'Miniahoy': 134,\n",
              " 'Minidonut': 135,\n",
              " 'Minihemp': 136,\n",
              " 'Minileopard': 137,\n",
              " 'Minilovelove': 138,\n",
              " 'Minipopheart': 139,\n",
              " 'Minipunkrocker': 140,\n",
              " 'Missyou': 141,\n",
              " 'Mom': 142,\n",
              " 'MonaLisa': 143,\n",
              " 'Monkey': 144,\n",
              " 'Moodmissyou': 145,\n",
              " 'Nerd': 146,\n",
              " 'Ninja': 147,\n",
              " 'Nordman': 148,\n",
              " 'Nurse': 149,\n",
              " 'Nutcracker': 150,\n",
              " 'OnePond': 151,\n",
              " 'OwlBrown': 152,\n",
              " 'Paparazzi': 153,\n",
              " 'Paramedic': 154,\n",
              " 'Peacock': 155,\n",
              " 'Photographer': 156,\n",
              " 'Picquacko': 157,\n",
              " 'Pig': 158,\n",
              " 'Pigeon': 159,\n",
              " 'Piku': 160,\n",
              " 'Pilot': 161,\n",
              " 'PilotRing': 162,\n",
              " 'PinkUnicornKeychain': 163,\n",
              " 'Pinkmini': 164,\n",
              " 'Pinkunicornmini': 165,\n",
              " 'Pinkwhitehearts': 166,\n",
              " 'Pinky': 167,\n",
              " 'Piratered': 168,\n",
              " 'PoliceWoman': 169,\n",
              " 'Pondtrooper': 170,\n",
              " 'Pool': 171,\n",
              " 'PopIcon': 172,\n",
              " 'PositivePoem': 173,\n",
              " 'Princess': 174,\n",
              " 'PrincessLayer': 175,\n",
              " 'Purplewaves': 176,\n",
              " 'QuackodileRock': 177,\n",
              " 'Queen': 178,\n",
              " 'Rasta': 179,\n",
              " 'Red': 180,\n",
              " 'RedStar': 181,\n",
              " 'Redwhitehearts': 182,\n",
              " 'Robot': 183,\n",
              " 'Roman': 184,\n",
              " 'Row': 185,\n",
              " 'RoyalGuard': 186,\n",
              " 'SM': 187,\n",
              " 'SargentPeepersLonelyHotTubBand': 188,\n",
              " 'SchoolBoy': 189,\n",
              " 'SchoolGirl': 190,\n",
              " 'Scotsman': 191,\n",
              " 'ScottishPiper': 192,\n",
              " 'Shepherd': 193,\n",
              " 'Sherlock': 194,\n",
              " 'Skater': 195,\n",
              " 'Sleepy': 196,\n",
              " 'Snail': 197,\n",
              " 'Snake': 198,\n",
              " 'Soccerred': 199,\n",
              " 'Socceryellow': 200,\n",
              " 'Soldier': 201,\n",
              " 'Sparta': 202,\n",
              " 'StarPopper': 203,\n",
              " 'Submarine': 204,\n",
              " 'Sunny': 205,\n",
              " 'Superhero': 206,\n",
              " 'SurferBoy': 207,\n",
              " 'SurferGirl': 208,\n",
              " 'Surgeon': 209,\n",
              " 'Swimmer': 210,\n",
              " 'Swiss': 211,\n",
              " 'Tennis': 212,\n",
              " 'TennisMan': 213,\n",
              " 'Thankyou': 214,\n",
              " 'Thief': 215,\n",
              " 'Thor': 216,\n",
              " 'TourdeDuck': 217,\n",
              " 'Tourist': 218,\n",
              " 'Travel': 219,\n",
              " 'Trooper': 220,\n",
              " 'Trump': 221,\n",
              " 'Tulips': 222,\n",
              " 'Tullip': 223,\n",
              " 'Turtle': 224,\n",
              " 'UnicornLight': 225,\n",
              " 'Unicornwhite': 226,\n",
              " 'Unicornwhiteholdy': 227,\n",
              " 'Unicornwhithholdy': 228,\n",
              " 'VikingWoman': 229,\n",
              " 'Vincent': 230,\n",
              " 'Warden': 231,\n",
              " 'White': 232,\n",
              " 'WhiteUnicornKeychain': 233,\n",
              " 'Whiteredhearts': 234,\n",
              " 'Whitesheepmini': 235,\n",
              " 'Whiteunicornmini': 236,\n",
              " 'Whooping': 237,\n",
              " 'Wildtiger': 238,\n",
              " 'Woody': 239,\n",
              " 'Yellowmini': 240,\n",
              " 'Yoga': 241,\n",
              " 'Zig': 242,\n",
              " 'ZiggyStarduck': 243,\n",
              " 'Zodiac': 244,\n",
              " 'amore': 245,\n",
              " 'biker': 246,\n",
              " 'buddha': 247,\n",
              " 'businessman': 248,\n",
              " 'businesswoman': 249,\n",
              " 'chief': 250,\n",
              " 'coffee': 251,\n",
              " 'cowboy': 252,\n",
              " 'easterbunny': 253,\n",
              " 'easterchocolate': 254,\n",
              " 'euro': 255,\n",
              " 'frenchman': 256,\n",
              " 'gamerboy': 257,\n",
              " 'gamergirl': 258,\n",
              " 'hairdresser': 259,\n",
              " 'indianman': 260,\n",
              " 'indianwoman': 261,\n",
              " 'influencer': 262,\n",
              " 'kisses': 263,\n",
              " 'leopard': 264,\n",
              " 'lovelove': 265,\n",
              " 'mermaid': 266,\n",
              " 'moonandstars': 267,\n",
              " 'nun': 268,\n",
              " 'paint': 269,\n",
              " 'painter': 270,\n",
              " 'panda': 271,\n",
              " 'pirateparrot': 272,\n",
              " 'punkiwoman': 273,\n",
              " 'rabbi': 274,\n",
              " 'royalqueen': 275,\n",
              " 'runner': 276,\n",
              " 'sauna': 277,\n",
              " 'shopping': 278,\n",
              " 'sunday': 279,\n",
              " 'theflame': 280,\n",
              " 'unclesam': 281,\n",
              " 'unicorn': 282,\n",
              " 'viking': 283,\n",
              " 'volleyball': 284}"
            ]
          },
          "metadata": {
            "tags": []
          },
          "execution_count": 25
        }
      ]
    }
  ]
}